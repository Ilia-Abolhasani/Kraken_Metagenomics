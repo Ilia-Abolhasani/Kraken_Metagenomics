{
 "cells": [
  {
   "cell_type": "markdown",
   "metadata": {
    "heading_collapsed": true
   },
   "source": [
    "# Imports"
   ]
  },
  {
   "cell_type": "code",
   "execution_count": null,
   "metadata": {
    "ExecuteTime": {
     "end_time": "2021-10-17T22:32:54.951253Z",
     "start_time": "2021-10-17T22:32:54.377054Z"
    },
    "hidden": true
   },
   "outputs": [],
   "source": [
    "import os\n",
    "import glob\n",
    "import gzip\n",
    "import pickle\n",
    "import pandas as pd\n",
    "from ete3 import NCBITaxa\n",
    "import ncbi_genome_download as ngd"
   ]
  },
  {
   "cell_type": "markdown",
   "metadata": {
    "heading_collapsed": true
   },
   "source": [
    "# Create index file"
   ]
  },
  {
   "cell_type": "markdown",
   "metadata": {
    "hidden": true
   },
   "source": [
    "## Taxanomy tree"
   ]
  },
  {
   "cell_type": "code",
   "execution_count": null,
   "metadata": {
    "hidden": true
   },
   "outputs": [],
   "source": [
    "ncbi = NCBITaxa()\n",
    "ncbi.update_taxonomy_database()"
   ]
  },
  {
   "cell_type": "markdown",
   "metadata": {
    "hidden": true
   },
   "source": [
    "## Taxa for fusobacteria"
   ]
  },
  {
   "cell_type": "code",
   "execution_count": 3,
   "metadata": {
    "hidden": true
   },
   "outputs": [],
   "source": [
    "taxon_name = 'fusobacteria'\n",
    "ebact = ncbi.get_descendant_taxa(taxon_name, return_tree=True)\n",
    "with open('./taxaindex', 'w') as wr:\n",
    "    for i in ebact:        \n",
    "        wr.write(\"%s\\n\" % i)"
   ]
  },
  {
   "cell_type": "markdown",
   "metadata": {
    "hidden": true
   },
   "source": [
    "## Download genome from taxa"
   ]
  },
  {
   "cell_type": "code",
   "execution_count": null,
   "metadata": {
    "hidden": true
   },
   "outputs": [],
   "source": [
    "ngd.download(assembly_level='complete',\n",
    "             taxid ='./taxaindex',\n",
    "             file_format = 'fasta',\n",
    "             output='out',\n",
    "             group='bacteria')"
   ]
  },
  {
   "cell_type": "markdown",
   "metadata": {
    "heading_collapsed": true
   },
   "source": [
    "# Creae index table"
   ]
  },
  {
   "cell_type": "markdown",
   "metadata": {
    "hidden": true
   },
   "source": [
    "## Read genomes"
   ]
  },
  {
   "cell_type": "code",
   "execution_count": null,
   "metadata": {
    "hidden": true
   },
   "outputs": [],
   "source": [
    "def clear(dna):\n",
    "    out = list()\n",
    "    for i in range(0,len(dna)):\n",
    "        if(dna[i] in ['A','C','G','T']):            \n",
    "            out.append(dna[i])\n",
    "    return ''.join(out)"
   ]
  },
  {
   "cell_type": "code",
   "execution_count": 5,
   "metadata": {
    "hidden": true
   },
   "outputs": [
    {
     "name": "stderr",
     "output_type": "stream",
     "text": [
      "C:\\ProgramData\\Anaconda3\\lib\\site-packages\\IPython\\core\\interactiveshell.py:3058: DtypeWarning: Columns (21) have mixed types. Specify dtype option on import or set low_memory=False.\n",
      "  interactivity=interactivity, compiler=compiler, result=result)\n"
     ]
    },
    {
     "name": "stdout",
     "output_type": "stream",
     "text": [
      "./out/refseq/bacteria/GCF_000007325.1 , 190304\n",
      "./out/refseq/bacteria/GCF_000023905.1 , 523794\n",
      "./out/refseq/bacteria/GCF_000024405.1 , 526218\n",
      "./out/refseq/bacteria/GCF_000024565.1 , 519441\n",
      "./out/refseq/bacteria/GCF_000158275.2 , 457405\n",
      "./out/refseq/bacteria/GCF_000162235.2 , 469604\n",
      "./out/refseq/bacteria/GCF_000163915.2 , 469602\n",
      "./out/refseq/bacteria/GCF_000165505.1 , 572544\n",
      "./out/refseq/bacteria/GCF_000400875.1 , 469607\n",
      "./out/refseq/bacteria/GCF_000973085.1 , 187101\n",
      "./out/refseq/bacteria/GCF_001274535.1 , 712357\n",
      "./out/refseq/bacteria/GCF_001296125.1 , 1307427\n",
      "./out/refseq/bacteria/GCF_001296165.1 , 1307428\n",
      "./out/refseq/bacteria/GCF_001455085.1 , 1307443\n",
      "./out/refseq/bacteria/GCF_001455105.1 , 1307444\n",
      "./out/refseq/bacteria/GCF_001455145.1 , 1307442\n",
      "./out/refseq/bacteria/GCF_001553645.1 , 1785996\n",
      "./out/refseq/bacteria/GCF_002240055.1 , 712368\n",
      "./out/refseq/bacteria/GCF_002763595.1 , 2663009\n",
      "./out/refseq/bacteria/GCF_002763625.1 , 2663009\n",
      "./out/refseq/bacteria/GCF_002763695.1 , 2663009\n",
      "./out/refseq/bacteria/GCF_002763735.1 , 2663009\n",
      "./out/refseq/bacteria/GCF_002763775.1 , 2663009\n",
      "./out/refseq/bacteria/GCF_002763815.1 , 2663009\n",
      "./out/refseq/bacteria/GCF_002763875.1 , 2663009\n",
      "./out/refseq/bacteria/GCF_002763915.1 , 2663009\n",
      "./out/refseq/bacteria/GCF_002763925.1 , 2663009\n",
      "./out/refseq/bacteria/GCF_003019315.1 , 469616\n",
      "./out/refseq/bacteria/GCF_003019655.1 , 469618\n",
      "./out/refseq/bacteria/GCF_003019695.1 , 469615\n",
      "./out/refseq/bacteria/GCF_003019785.1 , 525283\n",
      "./out/refseq/bacteria/GCF_004006635.1 , 143388\n",
      "./out/refseq/bacteria/GCF_007990635.1 , 554406\n",
      "./out/refseq/bacteria/GCF_900683735.1 , 469617\n"
     ]
    }
   ],
   "source": [
    "files = [x[0] for x in os.walk('./out/refseq/bacteria/')][1:]\n",
    "\n",
    "genoms = list()\n",
    "\n",
    "df = pd.read_csv('./assembly_summary.txt',\n",
    "                 sep='\\t',\n",
    "                 lineterminator='\\n') # for retrieve taxaid\n",
    "\n",
    "for file in files:           \n",
    "    query = file.split('/')[-1]\n",
    "    taxid = int(df.loc[df['gbrs_paired_asm'] == query]['taxid'])    \n",
    "    print(file + \" , \"+ str(taxid))    \n",
    "    fna = glob.glob(file+\"/*.fna.gz\")[0]\n",
    "    f = gzip.open(fna, 'rb')    \n",
    "    file_content = str(f.read())\n",
    "    f.close()     \n",
    "    parts = file_content.split('>N')                      \n",
    "    dna =\"\"\n",
    "    for p in parts:\n",
    "        if(len(p)>len(dna)):\n",
    "            dna = p    \n",
    "    dna = dna.split('\\\\n')          \n",
    "    dna = dna[1:]    \n",
    "    dna = ''.join(dna)        \n",
    "    dna = clear(dna)\n",
    "    genoms.append([dna,taxid])    \n",
    "del(df)"
   ]
  },
  {
   "cell_type": "code",
   "execution_count": 9,
   "metadata": {
    "hidden": true
   },
   "outputs": [],
   "source": [
    "def reverse(seq): \n",
    "    rev = seq[::-1]\n",
    "    rev = rev.replace(\"A\",\"X\")\n",
    "    rev = rev.replace(\"T\",\"A\")\n",
    "    rev = rev.replace(\"X\",\"T\")\n",
    "    rev = rev.replace(\"C\",\"X\")\n",
    "    rev = rev.replace(\"G\",\"C\")\n",
    "    rev = rev.replace(\"X\",\"G\")\n",
    "    return rev"
   ]
  },
  {
   "cell_type": "code",
   "execution_count": 10,
   "metadata": {
    "hidden": true
   },
   "outputs": [
    {
     "name": "stdout",
     "output_type": "stream",
     "text": [
      "190304\n",
      "523794\n",
      "526218\n",
      "519441\n",
      "457405\n",
      "469604\n",
      "469602\n",
      "572544\n",
      "469607\n",
      "187101\n",
      "712357\n",
      "1307427\n",
      "1307428\n",
      "1307443\n",
      "1307444\n",
      "1307442\n",
      "1785996\n",
      "712368\n",
      "2663009\n",
      "2663009\n",
      "2663009\n",
      "2663009\n",
      "2663009\n",
      "2663009\n",
      "2663009\n",
      "2663009\n",
      "2663009\n",
      "469616\n",
      "469618\n",
      "469615\n",
      "525283\n",
      "143388\n",
      "554406\n",
      "469617\n"
     ]
    }
   ],
   "source": [
    "# parameter\n",
    "M=7 # minimizer parameter\n",
    "kmer=31\n",
    "\n",
    "\n",
    "index = {}\n",
    "ancesotr = {}\n",
    "for gene in genoms:    \n",
    "    seq = gene[0]\n",
    "    taxid = gene[1]\n",
    "    print(taxid)    \n",
    "    # kmer\n",
    "    L = len(seq)\n",
    "    for i in range(0,L-kmer+1):\n",
    "        sub_f=seq[i:i+kmer]        \n",
    "        # sub_r = rev[L-kmer-i:L-i]\n",
    "        sub_r = reverse(sub_f)\n",
    "        mini = \"ZZZZZZZZZZZZZ\"\n",
    "        # minimizer\n",
    "        for j in range(0, kmer-M+1):\n",
    "                sub2=sub_f[j:j+M]\n",
    "                if sub2 < mini:\n",
    "                    mini=sub2\n",
    "                sub2=sub_r[j:j+M]\n",
    "                if sub2 < mini:\n",
    "                    mini=sub2\n",
    "        h = sub_f\n",
    "        if mini in index:            \n",
    "            if h not in index[mini]: # add minimizer to index table               \n",
    "                index[mini][h] = taxid\n",
    "            elif(taxid != index[mini][h]): \n",
    "                s = str([taxid,index[mini][h]])\n",
    "                if(s in ancesotr):\n",
    "                    index[mini][h] = ancesotr[s]\n",
    "                else:                                       \n",
    "                    index[mini][h] = int(ebact.get_common_ancestor(str(index[mini][h]),str(taxid)).name)\n",
    "                    ancesotr[s] = index[mini][h]\n",
    "        else:             \n",
    "            index[mini]={h:taxid}"
   ]
  },
  {
   "cell_type": "code",
   "execution_count": 5,
   "metadata": {
    "ExecuteTime": {
     "end_time": "2021-10-17T22:34:51.466206Z",
     "start_time": "2021-10-17T22:34:51.458406Z"
    },
    "hidden": true
   },
   "outputs": [],
   "source": [
    "with open(\"index.p\", \"wb\") as file: # save index table\n",
    "    pickle.dump(index, file)"
   ]
  },
  {
   "cell_type": "markdown",
   "metadata": {},
   "source": [
    "# Load index table and predict"
   ]
  },
  {
   "cell_type": "code",
   "execution_count": 6,
   "metadata": {
    "ExecuteTime": {
     "end_time": "2021-10-17T22:34:53.043640Z",
     "start_time": "2021-10-17T22:34:53.039554Z"
    }
   },
   "outputs": [],
   "source": [
    "with open(\"index.p\", \"rb\") as file: # save index table\n",
    "    index = pickle.load(file)"
   ]
  },
  {
   "cell_type": "markdown",
   "metadata": {},
   "source": [
    "## Read metagenomics"
   ]
  },
  {
   "cell_type": "code",
   "execution_count": 23,
   "metadata": {},
   "outputs": [],
   "source": [
    "file = open('metagenomic.txt','r')\n",
    "reads = file.read()\n",
    "file.close()\n",
    "reads = reads.split('\\n')"
   ]
  },
  {
   "cell_type": "code",
   "execution_count": 48,
   "metadata": {},
   "outputs": [],
   "source": [
    "def kraken(seq):\n",
    "    score={}\n",
    "    kmer=31\n",
    "    M=7\n",
    "    rev=reverse(seq)\n",
    "    # kmer\n",
    "    L = len(seq)\n",
    "    for i in range(0,L- kmer +1):\n",
    "        sub_f=seq[i:i+kmer]\n",
    "        #sub_r=rev[L-kmer-i:L-i]\n",
    "        sub_r = reverse(sub_f)\n",
    "        mini = \"ZZZZZZZZZZZZZ\"\n",
    "        # minimizer\n",
    "        for j in range(0, kmer-M+1):\n",
    "            sub2=sub_f[j:j+M]\n",
    "            if sub2 < mini:\n",
    "                mini = sub2                \n",
    "            sub2 = sub_r[j:j+M]\n",
    "            if sub2 < mini:\n",
    "                mini=sub2        \n",
    "        if(mini in index):\n",
    "            if(sub_f in index[mini]):\n",
    "                id = index[mini][sub_f]                \n",
    "            else :\n",
    "                continue\n",
    "        else :\n",
    "            continue\n",
    "        if(id in score):\n",
    "            score[id] = score[id] + 1\n",
    "        else:\n",
    "            score[id] = 1\n",
    "    # select max score\n",
    "    maxs = 0\n",
    "    answer = 0\n",
    "    for item in score:\n",
    "        s = 0\n",
    "        node = ebact.search_nodes(name=str(item))[0]\n",
    "        ancestors = node.get_ancestors()\n",
    "        for anc in ancestors: \n",
    "            if(anc in score):\n",
    "                s += score[anc]\n",
    "        if(s > maxs):\n",
    "            maxs = s\n",
    "            answer = item \n",
    "    return answer"
   ]
  },
  {
   "cell_type": "code",
   "execution_count": null,
   "metadata": {},
   "outputs": [],
   "source": [
    "acc = 0\n",
    "for read in reads:\n",
    "    read = read.split(',')\n",
    "    taxid =read[1]\n",
    "    read = read[0]    \n",
    "    extimeted = kraken(read)\n",
    "    if(extimeted == taxid):\n",
    "        acc += 1\n",
    "acc = (acc / len(reads)) * 100\n",
    "print('accuracy : ' + str(acc) + \"%\")"
   ]
  }
 ],
 "metadata": {
  "hide_input": false,
  "kernelspec": {
   "display_name": "Python 3",
   "language": "python",
   "name": "python3"
  },
  "language_info": {
   "codemirror_mode": {
    "name": "ipython",
    "version": 3
   },
   "file_extension": ".py",
   "mimetype": "text/x-python",
   "name": "python",
   "nbconvert_exporter": "python",
   "pygments_lexer": "ipython3",
   "version": "3.8.5"
  },
  "varInspector": {
   "cols": {
    "lenName": 16,
    "lenType": 16,
    "lenVar": 40
   },
   "kernels_config": {
    "python": {
     "delete_cmd_postfix": "",
     "delete_cmd_prefix": "del ",
     "library": "var_list.py",
     "varRefreshCmd": "print(var_dic_list())"
    },
    "r": {
     "delete_cmd_postfix": ") ",
     "delete_cmd_prefix": "rm(",
     "library": "var_list.r",
     "varRefreshCmd": "cat(var_dic_list()) "
    }
   },
   "types_to_exclude": [
    "module",
    "function",
    "builtin_function_or_method",
    "instance",
    "_Feature"
   ],
   "window_display": false
  }
 },
 "nbformat": 4,
 "nbformat_minor": 2
}
