{
 "cells": [
  {
   "cell_type": "markdown",
   "metadata": {},
   "source": [
    "# Import"
   ]
  },
  {
   "cell_type": "code",
   "execution_count": 2,
   "metadata": {},
   "outputs": [],
   "source": [
    "import os\n",
    "import glob\n",
    "import gzip\n",
    "import numpy as np\n",
    "import pandas as pd"
   ]
  },
  {
   "cell_type": "markdown",
   "metadata": {},
   "source": [
    "# Config variable"
   ]
  },
  {
   "cell_type": "code",
   "execution_count": 3,
   "metadata": {},
   "outputs": [],
   "source": [
    "read_size = 100\n",
    "sub_rate = 0\n",
    "ins_rate = 0\n",
    "del_rate = 0\n",
    "sub_readrate = 0\n",
    "ins_readrate = 0\n",
    "del_readrate = 0\n",
    "coverage = 1\n",
    "\n",
    "Frequency = [4,3,2,1,1,1,1,1,1,1]"
   ]
  },
  {
   "cell_type": "markdown",
   "metadata": {},
   "source": [
    "# Select genome"
   ]
  },
  {
   "cell_type": "code",
   "execution_count": null,
   "metadata": {},
   "outputs": [],
   "source": [
    "def clear(dna):\n",
    "    out = list()\n",
    "    for i in range(0,len(dna)):\n",
    "        if(dna[i] in ['A','C','G','T']):            \n",
    "            out.append(dna[i])\n",
    "    return ''.join(out)"
   ]
  },
  {
   "cell_type": "code",
   "execution_count": null,
   "metadata": {},
   "outputs": [],
   "source": [
    "np.random.seed(0) # set random seed\n",
    "\n",
    "files = [x[0] for x in os.walk('./out/refseq/bacteria/')][1:]\n",
    "files = np.random.choice(files,len(Frequency)) # select 10 genome randomly\n",
    "genoms = list()\n",
    "df = pd.read_csv('./assembly_summary.txt', sep='\\t',  lineterminator='\\n') # for retrieve taxaid\n",
    "\n",
    "for file in files:       \n",
    "    query = file.split('/')[-1]\n",
    "    taxid = int(df.loc[df['gbrs_paired_asm'] == query]['taxid']) \n",
    "    fna = glob.glob(file+\"/*.fna.gz\")[0]\n",
    "    f = gzip.open(fna, 'rb')    # unzip fna.gz files\n",
    "    file_content = str(f.read())\n",
    "    f.close()     \n",
    "    parts = file_content.split('>N')                      \n",
    "    dna =\"\"\n",
    "    for p in parts:\n",
    "        if(len(p)>len(dna)):\n",
    "            dna = p    \n",
    "    dna = dna.split('\\\\n')          \n",
    "    dna = dna[1:]    \n",
    "    dna = ''.join(dna)        \n",
    "    dna = clear(dna)\n",
    "    genoms.append([dna,taxid])    \n",
    "del(df)"
   ]
  },
  {
   "cell_type": "markdown",
   "metadata": {},
   "source": [
    "## Mutation in genome g*"
   ]
  },
  {
   "cell_type": "code",
   "execution_count": 24,
   "metadata": {},
   "outputs": [],
   "source": [
    "for i in range(0,len(Frequency)):        \n",
    "    for j in range(0,Frequency[i]):                   \n",
    "        genoms.append([genoms[i][0],genoms[i][1]])        "
   ]
  },
  {
   "cell_type": "code",
   "execution_count": 25,
   "metadata": {},
   "outputs": [],
   "source": [
    "def mutation(dna, rate_sub, rate_ins, rate_del):\n",
    "    out = list()\n",
    "    for d in dna:        \n",
    "        if(np.random.rand() <= rate_sub ):\n",
    "            if(d=='A'):\n",
    "                l = ['C','G','T']\n",
    "            elif(d=='C'):\n",
    "                l = ['A','G','T']\n",
    "            elif(d=='G'):\n",
    "                l = ['A','C','T']\n",
    "            elif(d=='T'):\n",
    "                l = ['A','C','G']    \n",
    "            else:\n",
    "                l = ['A','C','G','T']\n",
    "            out.append(np.random.choice(l))\n",
    "        elif(np.random.rand() <= rate_ins ):\n",
    "            out.append(d)\n",
    "            out.append(np.random.choice(['A','C','G','T']))            \n",
    "        elif(np.random.rand() <= rate_del ):  \n",
    "            pass\n",
    "        else:\n",
    "            out.append(d)\n",
    "    return ''.join(out)"
   ]
  },
  {
   "cell_type": "code",
   "execution_count": 26,
   "metadata": {},
   "outputs": [],
   "source": [
    "for i in range(0,len(genoms)):      \n",
    "    genoms[i][0] = mutation(genoms[i][0],sub_rate,ins_rate ,del_rate)"
   ]
  },
  {
   "cell_type": "markdown",
   "metadata": {},
   "source": [
    "# Read simulate \n",
    "## Sampling with replacement and adding sequence error"
   ]
  },
  {
   "cell_type": "code",
   "execution_count": 5,
   "metadata": {},
   "outputs": [
    {
     "name": "stdout",
     "output_type": "stream",
     "text": [
      "10.0 %\n",
      "20.0 %\n",
      "30.0 %\n",
      "40.0 %\n",
      "50.0 %\n",
      "60.0 %\n",
      "70.0 %\n",
      "80.0 %\n",
      "90.0 %\n",
      "100.0 %\n"
     ]
    }
   ],
   "source": [
    "file = open('metagenomic.txt','a')\n",
    "c = 1  \n",
    "for gen in genoms:\n",
    "    print(str((c/len(genoms))*100) + \"%\")\n",
    "    c += 1\n",
    "    dna =  gen[0]\n",
    "    for i in range(0, len(dna)*coverage //read_size):\n",
    "        r = np.random.randint(0,len(dna)-read_size+1)\n",
    "        read = dna[r:r+read_size]\n",
    "       # read = mutation(read,sub_readrate ,ins_readrate ,del_readrate)        \n",
    "        file.write(read + ',' + str(gen[1]) + '\\n')\n",
    "file.close()"
   ]
  }
 ],
 "metadata": {
  "hide_input": false,
  "kernelspec": {
   "display_name": "Python 3",
   "language": "python",
   "name": "python3"
  },
  "language_info": {
   "codemirror_mode": {
    "name": "ipython",
    "version": 3
   },
   "file_extension": ".py",
   "mimetype": "text/x-python",
   "name": "python",
   "nbconvert_exporter": "python",
   "pygments_lexer": "ipython3",
   "version": "3.8.5"
  },
  "varInspector": {
   "cols": {
    "lenName": 16,
    "lenType": 16,
    "lenVar": 40
   },
   "kernels_config": {
    "python": {
     "delete_cmd_postfix": "",
     "delete_cmd_prefix": "del ",
     "library": "var_list.py",
     "varRefreshCmd": "print(var_dic_list())"
    },
    "r": {
     "delete_cmd_postfix": ") ",
     "delete_cmd_prefix": "rm(",
     "library": "var_list.r",
     "varRefreshCmd": "cat(var_dic_list()) "
    }
   },
   "types_to_exclude": [
    "module",
    "function",
    "builtin_function_or_method",
    "instance",
    "_Feature"
   ],
   "window_display": false
  }
 },
 "nbformat": 4,
 "nbformat_minor": 2
}
